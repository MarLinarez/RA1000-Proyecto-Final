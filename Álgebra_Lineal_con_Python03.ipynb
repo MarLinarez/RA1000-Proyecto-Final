{
  "nbformat": 4,
  "nbformat_minor": 0,
  "metadata": {
    "colab": {
      "provenance": []
    },
    "kernelspec": {
      "name": "python3",
      "display_name": "Python 3"
    },
    "language_info": {
      "name": "python"
    }
  },
  "cells": [
    {
      "cell_type": "markdown",
      "source": [
        "# Álgebra Lineal con Python\n",
        "\n",
        "Recordemos que si damos $n\\times m$ números reales, entonces podemos crear un arreglo (una matriz):\n",
        "$$A_{m\\times n}=\\begin{bmatrix}\n",
        "a_{11} & a_{12} & \\cdots & a_{1n} \\\\\n",
        "a_{21} & a_{22} & \\cdots & a_{2n} \\\\\n",
        "\\vdots & \\vdots & \\ddots & \\vdots \\\\\n",
        "a_{m1} & a_{m2} & \\cdots & a_{mn}\n",
        "\\end{bmatrix}$$\n",
        "\n",
        "y al conjunto de matrices con coeficientes en $\\mathbb{R}$ lo denotamos $\\text{Mat}_{m\\times n}(\\mathbb{R})$.\n"
      ],
      "metadata": {
        "id": "MXfDgHr3RAt7"
      }
    },
    {
      "cell_type": "code",
      "source": [
        "type(2), type(2.0), type(\"2\") # La función type(obj) nos dice el tipo de objeto con el que se está trabajando."
      ],
      "metadata": {
        "colab": {
          "base_uri": "https://localhost:8080/"
        },
        "id": "rrsH4dA7SLmP",
        "outputId": "d4578b22-7932-48fe-c524-00391faba29f"
      },
      "execution_count": 1,
      "outputs": [
        {
          "output_type": "execute_result",
          "data": {
            "text/plain": [
              "(int, float, str)"
            ]
          },
          "metadata": {},
          "execution_count": 1
        }
      ]
    },
    {
      "cell_type": "markdown",
      "source": [
        "### Variables\n",
        "$$\\text{nombre} = \\text{objeto}$$\n",
        "\n",
        "Debug: $\\text{print(variable)}$"
      ],
      "metadata": {
        "id": "F_m9B2_BdbEM"
      }
    },
    {
      "cell_type": "markdown",
      "source": [
        "1. Suma de matrices\n",
        "\n",
        "$$\\begin{pmatrix} a_{11} & a_{12} & \\cdots & a_{1n} \\\\ a_{21} & a_{22} & \\cdots & a_{2n} \\\\ \\vdots & \\vdots & \\ddots & \\vdots \\\\ a_{m1} & a_{m2} & \\cdots & a_{mn} \\end{pmatrix} + \\begin{pmatrix} b_{11} & b_{12} & \\cdots & b_{1n} \\\\ b_{21} & b_{22} & \\cdots & b_{2n} \\\\ \\vdots & \\vdots & \\ddots & \\vdots \\\\ b_{m1} & b_{m2} & \\cdots & b_{mn} \\end{pmatrix} = \\begin{pmatrix} a_{11} + b_{11} & a_{12} + b_{12} & \\cdots & a_{1n} + b_{1n} \\\\ a_{21} + b_{21} & a_{22} + b_{22} & \\cdots & a_{2n} + b_{2n} \\\\ \\vdots & \\vdots & \\ddots & \\vdots \\\\ a_{m1} + b_{m1} & a_{m2} + b_{m2} & \\cdots & a_{mn} + b_{mn} \\end{pmatrix}$$\n",
        "\n",
        "2. Multiplicación de matrices\n",
        "\n",
        "$$\\begin{pmatrix} a_{11} & a_{12} \\\\ a_{21} & a_{22} \\end{pmatrix} \\times \\begin{pmatrix} b_{11} & b_{12} \\\\ b_{21} & b_{22} \\end{pmatrix} = \\begin{pmatrix} a_{11}b_{11} + a_{12}b_{21} & a_{11}b_{12} + a_{12}b_{22} \\\\ a_{21}b_{11} + a_{22}b_{21} & a_{21}b_{12} + a_{22}b_{22} \\end{pmatrix} $$"
      ],
      "metadata": {
        "id": "j8u-P7h72XGv"
      }
    },
    {
      "cell_type": "markdown",
      "source": [
        "### Listas\n",
        "\n",
        "$L=[a_{0}, a_{1}, \\dots, a_{n-1}]$"
      ],
      "metadata": {
        "id": "V7poYJujSoqF"
      }
    },
    {
      "cell_type": "code",
      "source": [
        "# Vamos a generar 3 listas.\n",
        "L = [1, 2, 3, 4, 5]\n",
        "\n",
        "M = [6, 7, 8, 9 , 10]\n",
        "\n",
        "N = [11, 12, 13]\n",
        "\n",
        "print(L)\n",
        "print(M)  # me muestra el resultado\n",
        "print(N)"
      ],
      "metadata": {
        "colab": {
          "base_uri": "https://localhost:8080/"
        },
        "id": "rMxqQX4SSW4t",
        "outputId": "e0ecc8d5-d3ac-414c-b239-caf2212d0ce4"
      },
      "execution_count": 2,
      "outputs": [
        {
          "output_type": "stream",
          "name": "stdout",
          "text": [
            "[1, 2, 3, 4, 5]\n",
            "[6, 7, 8, 9, 10]\n",
            "[11, 12, 13]\n"
          ]
        }
      ]
    },
    {
      "cell_type": "code",
      "source": [
        "#  Que tipo de objeto es\n",
        "type(L)"
      ],
      "metadata": {
        "id": "Zw1hYNaqTAwy",
        "outputId": "1682389d-7fb8-458b-a90d-1e61e4171516",
        "colab": {
          "base_uri": "https://localhost:8080/"
        }
      },
      "execution_count": 3,
      "outputs": [
        {
          "output_type": "execute_result",
          "data": {
            "text/plain": [
              "list"
            ]
          },
          "metadata": {},
          "execution_count": 3
        }
      ]
    },
    {
      "cell_type": "code",
      "source": [
        "# Transformación de listas a otros objetos.\n",
        "L_set = set(L)\n",
        "\n",
        "L_set"
      ],
      "metadata": {
        "colab": {
          "base_uri": "https://localhost:8080/"
        },
        "id": "PrOqz_EkgzZo",
        "outputId": "cccf9939-5039-498e-f0bc-0085199b6fa3"
      },
      "execution_count": 4,
      "outputs": [
        {
          "output_type": "execute_result",
          "data": {
            "text/plain": [
              "{1, 2, 3, 4, 5}"
            ]
          },
          "metadata": {},
          "execution_count": 4
        }
      ]
    },
    {
      "cell_type": "code",
      "source": [
        "L_lista = list(L_set)\n",
        "L_lista"
      ],
      "metadata": {
        "colab": {
          "base_uri": "https://localhost:8080/"
        },
        "id": "odNKcoujeWBS",
        "outputId": "8e7ea002-b03a-4409-b090-d6043b686546"
      },
      "execution_count": 5,
      "outputs": [
        {
          "output_type": "execute_result",
          "data": {
            "text/plain": [
              "[1, 2, 3, 4, 5]"
            ]
          },
          "metadata": {},
          "execution_count": 5
        }
      ]
    },
    {
      "cell_type": "code",
      "source": [
        "L + M # concatena (no realiza operaciones vectoriales)."
      ],
      "metadata": {
        "colab": {
          "base_uri": "https://localhost:8080/"
        },
        "id": "ty7z2IXFhO1N",
        "outputId": "ac50d0ab-ba5d-4e0a-eed2-51e7d4d010e3"
      },
      "execution_count": 6,
      "outputs": [
        {
          "output_type": "execute_result",
          "data": {
            "text/plain": [
              "[1, 2, 3, 4, 5, 6, 7, 8, 9, 10]"
            ]
          },
          "metadata": {},
          "execution_count": 6
        }
      ]
    },
    {
      "cell_type": "code",
      "source": [
        "L + M + N"
      ],
      "metadata": {
        "colab": {
          "base_uri": "https://localhost:8080/"
        },
        "id": "KGyV18pje0dm",
        "outputId": "76a8de47-1029-448d-a633-d8e70239929e"
      },
      "execution_count": 7,
      "outputs": [
        {
          "output_type": "execute_result",
          "data": {
            "text/plain": [
              "[1, 2, 3, 4, 5, 6, 7, 8, 9, 10, 11, 12, 13]"
            ]
          },
          "metadata": {},
          "execution_count": 7
        }
      ]
    },
    {
      "cell_type": "markdown",
      "source": [
        "### NumPy"
      ],
      "metadata": {
        "id": "cHpWBMkijawY"
      }
    },
    {
      "cell_type": "markdown",
      "source": [
        "- Un vector = arreglo 1D en Python\n",
        "- Una matriz = arreglo 2D en Python"
      ],
      "metadata": {
        "id": "qTF0vi9alcXr"
      }
    },
    {
      "cell_type": "code",
      "source": [
        "# LLamamos a la librería para hacer operaciones vectoriales.\n",
        "import numpy as np"
      ],
      "metadata": {
        "id": "cM1VQWLvjO6z"
      },
      "execution_count": 8,
      "outputs": []
    },
    {
      "cell_type": "code",
      "source": [
        "L_vector = np.array(L) # Convertir una lista en un vector. La función \"np.array\" es la que hace la operación.\n",
        "\n",
        "L_vector"
      ],
      "metadata": {
        "colab": {
          "base_uri": "https://localhost:8080/"
        },
        "id": "ZAl3bdrqlzCq",
        "outputId": "ac69b8ad-0fad-4b5e-e7ce-8e95703b1be9"
      },
      "execution_count": 9,
      "outputs": [
        {
          "output_type": "execute_result",
          "data": {
            "text/plain": [
              "array([1, 2, 3, 4, 5])"
            ]
          },
          "metadata": {},
          "execution_count": 9
        }
      ]
    },
    {
      "cell_type": "code",
      "source": [
        "type(L_vector)"
      ],
      "metadata": {
        "colab": {
          "base_uri": "https://localhost:8080/"
        },
        "id": "JcKmNPCqdK-U",
        "outputId": "a7087635-fefe-43fa-d4e9-46e182799109"
      },
      "execution_count": 10,
      "outputs": [
        {
          "output_type": "execute_result",
          "data": {
            "text/plain": [
              "numpy.ndarray"
            ]
          },
          "metadata": {},
          "execution_count": 10
        }
      ]
    },
    {
      "cell_type": "code",
      "source": [
        "# Aquí se hace conversiones de listas a vectores.\n",
        "M_vector = np.array(M)\n",
        "\n",
        "N_vector = np.array(N)\n",
        "\n",
        "print(M_vector)\n",
        "print(N_vector)"
      ],
      "metadata": {
        "colab": {
          "base_uri": "https://localhost:8080/"
        },
        "id": "B7c2SQ3DmSkL",
        "outputId": "7af85669-1c7f-421d-e8af-004f3eff1caf"
      },
      "execution_count": 11,
      "outputs": [
        {
          "output_type": "stream",
          "name": "stdout",
          "text": [
            "[ 6  7  8  9 10]\n",
            "[11 12 13]\n"
          ]
        }
      ]
    },
    {
      "cell_type": "code",
      "source": [
        "# Con la función \"len\" vemos el número de elementos que tiene cada vector.\n",
        "len(L_vector), len(M_vector), len(N_vector)"
      ],
      "metadata": {
        "colab": {
          "base_uri": "https://localhost:8080/"
        },
        "id": "qWXPx9wHnVrV",
        "outputId": "9506ff0a-0e57-4c32-b9dd-33c546220cfb"
      },
      "execution_count": 12,
      "outputs": [
        {
          "output_type": "execute_result",
          "data": {
            "text/plain": [
              "(5, 5, 3)"
            ]
          },
          "metadata": {},
          "execution_count": 12
        }
      ]
    },
    {
      "cell_type": "markdown",
      "source": [
        "### Con esto, ya podemos sumar vectores. Únicamente cuando tienen el mismo número de elementos se puede sumar."
      ],
      "metadata": {
        "id": "L7JsCSdI4uQ-"
      }
    },
    {
      "cell_type": "code",
      "source": [
        "L_vector + M_vector # suma vectorial"
      ],
      "metadata": {
        "colab": {
          "base_uri": "https://localhost:8080/"
        },
        "id": "FivOuxE5oClc",
        "outputId": "f826fffa-0f5b-45bf-dbdb-da26f02105a8"
      },
      "execution_count": 13,
      "outputs": [
        {
          "output_type": "execute_result",
          "data": {
            "text/plain": [
              "array([ 7,  9, 11, 13, 15])"
            ]
          },
          "metadata": {},
          "execution_count": 13
        }
      ]
    },
    {
      "cell_type": "markdown",
      "source": [
        "## Creando matrices con NumPy: El método `solve( , )`\n"
      ],
      "metadata": {
        "id": "Oq29FUQwQk4k"
      }
    },
    {
      "cell_type": "markdown",
      "source": [
        "Un teatro vendió $200$ entradas para un espectáculo. Las entradas de adultos cuestan $\\$15$ cada una, y las entradas para niños cuestan $\\$10$ cada una. En total, se recaudaron $\\$2,400$. ¿Cuántas entradas de adultos y cuántas de niños se vendieron?\n",
        "\n",
        "\n",
        "Definimos las variables:\n",
        "\n",
        "* \\(x\\): número de entradas de adultos.\n",
        "* \\(y\\): número de entradas de niños.\n",
        "\n",
        "\n",
        "Sabemos que:\n",
        "\n",
        "El número total de entradas vendidas es:\n",
        "    \\[\n",
        "    x + y = 200\n",
        "    \\]\n",
        "\n",
        "El total recaudado es:\n",
        "    \\[\n",
        "    15x + 10y = 2400\n",
        "    \\]\n",
        "\n",
        "\n",
        "Por lo tanto, el sistema de ecuaciones es:\n",
        "\\\n",
        "\\begin{aligned}\n",
        "x + y &= 200, \\\\\n",
        "15x + 10y &= 2400.\n",
        "\\end{aligned}\n",
        "\\\n"
      ],
      "metadata": {
        "id": "RH5XfeEu6H-Q"
      }
    },
    {
      "cell_type": "markdown",
      "source": [
        "### Vamos a reolver este problema usando NumPy"
      ],
      "metadata": {
        "id": "-uf2DrZ68QfJ"
      }
    },
    {
      "cell_type": "code",
      "source": [
        "# Escribimos la matriz asociada al sistema de ecuaciones.\n",
        "A = np.array([1, 1, 15, 10]).reshape((2,2)) # \"Reshape\"  va a convertir la matriz en 2x2\n",
        "A"
      ],
      "metadata": {
        "id": "Aizg3wSfovh3",
        "colab": {
          "base_uri": "https://localhost:8080/"
        },
        "outputId": "3a198c1b-f97e-4566-8ce0-101ec2b98ad1"
      },
      "execution_count": 14,
      "outputs": [
        {
          "output_type": "execute_result",
          "data": {
            "text/plain": [
              "array([[ 1,  1],\n",
              "       [15, 10]])"
            ]
          },
          "metadata": {},
          "execution_count": 14
        }
      ]
    },
    {
      "cell_type": "code",
      "source": [
        "# Vector de solución de sistema de ecuaciones\n",
        "B = np.array([200,2400])"
      ],
      "metadata": {
        "id": "Dlk3EOZSR7Q_"
      },
      "execution_count": 15,
      "outputs": []
    },
    {
      "cell_type": "markdown",
      "source": [
        "$$AX=B$$"
      ],
      "metadata": {
        "id": "2-ZBA4T2SmfG"
      }
    },
    {
      "cell_type": "markdown",
      "source": [
        "## NumPy tiene una sublibrería que se llama \"Linalg\"en donde se pueden resolver sistemas de ecuaciones."
      ],
      "metadata": {
        "id": "anbnEEbt9pUo"
      }
    },
    {
      "cell_type": "code",
      "source": [
        "# La función \"solve\" resuelve el sistema de ecuaciones.\n",
        "X = np.linalg.solve(A,B)\n",
        "\n",
        "X"
      ],
      "metadata": {
        "colab": {
          "base_uri": "https://localhost:8080/"
        },
        "id": "a7M19yRISlxU",
        "outputId": "cb8c3591-f386-4413-9da4-951361fb3e2d"
      },
      "execution_count": 16,
      "outputs": [
        {
          "output_type": "execute_result",
          "data": {
            "text/plain": [
              "array([ 80., 120.])"
            ]
          },
          "metadata": {},
          "execution_count": 16
        }
      ]
    },
    {
      "cell_type": "markdown",
      "source": [
        "La solución al sistema de ecuaciones es:\n",
        "x=80\n",
        "y=120"
      ],
      "metadata": {
        "id": "LNXUQRf3-XA8"
      }
    }
  ]
}